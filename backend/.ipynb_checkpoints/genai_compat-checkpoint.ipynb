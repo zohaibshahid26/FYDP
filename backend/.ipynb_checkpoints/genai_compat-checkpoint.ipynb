{
 "cells": [
  {
   "cell_type": "code",
   "execution_count": 3,
   "id": "bc5d410b-34ae-40b2-a44b-fd87a61ef0a8",
   "metadata": {},
   "outputs": [],
   "source": [
    "import google.generativeai as generativeai\n",
    "import sys\n",
    "import types\n",
    "\n",
    "class Client:\n",
    "    def __init__(self, api_key):\n",
    "        generativeai.configure(api_key=api_key)\n",
    "\n",
    "# Ensure 'google' module exists in sys.modules\n",
    "if 'google' not in sys.modules:\n",
    "    google_module = types.ModuleType('google')\n",
    "    sys.modules['google'] = google_module\n",
    "else:\n",
    "    google_module = sys.modules['google']\n",
    "\n",
    "# Inject 'genai' module with Client class into google namespace\n",
    "genai_module = types.SimpleNamespace(Client=Client)\n",
    "setattr(google_module, 'genai', genai_module)\n"
   ]
  },
  {
   "cell_type": "code",
   "execution_count": null,
   "id": "312ba4aa-0cf9-4bdc-8a10-9957911bb42d",
   "metadata": {},
   "outputs": [],
   "source": []
  }
 ],
 "metadata": {
  "kernelspec": {
   "display_name": "Python 3 (ipykernel)",
   "language": "python",
   "name": "python3"
  },
  "language_info": {
   "codemirror_mode": {
    "name": "ipython",
    "version": 3
   },
   "file_extension": ".py",
   "mimetype": "text/x-python",
   "name": "python",
   "nbconvert_exporter": "python",
   "pygments_lexer": "ipython3",
   "version": "3.9.21"
  }
 },
 "nbformat": 4,
 "nbformat_minor": 5
}
